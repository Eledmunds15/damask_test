{
 "cells": [
  {
   "cell_type": "markdown",
   "id": "817a24f5",
   "metadata": {},
   "source": [
    "# 02: Create Texture for Dual-Phase Microstructure\n",
    "https://damask-multiphysics.org/documentation/examples/loadcase_generation.html"
   ]
  },
  {
   "cell_type": "code",
   "execution_count": 2,
   "id": "2875d6bb",
   "metadata": {},
   "outputs": [],
   "source": [
    "import damask"
   ]
  },
  {
   "cell_type": "code",
   "execution_count": null,
   "id": "73d06f8b",
   "metadata": {},
   "outputs": [],
   "source": [
    "def inversion(l,fill=0):\n",
    "    return [inversion(i,fill) if isinstance(i,list) else\\\n",
    "            fill if i == 'x' else 'x' for i in l]"
   ]
  },
  {
   "cell_type": "code",
   "execution_count": null,
   "id": "43ff7ad8",
   "metadata": {},
   "outputs": [],
   "source": [
    "load_case = damask.LoadcaseGrid(solver={'mechanical':'spectral_basic'})"
   ]
  },
  {
   "cell_type": "code",
   "execution_count": null,
   "id": "f3bda8f5",
   "metadata": {},
   "outputs": [],
   "source": [
    "F = [[1.05, 0 , 0 ],\n",
    "     [   0,'x', 0 ],\n",
    "     [   0, 0 ,'x']]\n",
    "\n",
    "loadstep = {'boundary_conditions':{'mechanical':{'F':F,\n",
    "                                                 'P':inversion(F)}},\n",
    "                                   'discretization':{'t':10.,'N':40},'f_out':4}\n",
    "load_case['loadstep'].append(loadstep)"
   ]
  },
  {
   "cell_type": "code",
   "execution_count": null,
   "id": "ad49da1a",
   "metadata": {},
   "outputs": [],
   "source": [
    "dot_P = [[ 0 ,'x','x'],\n",
    "         ['x','x','x'],\n",
    "         ['x','x','x']]\n",
    "\n",
    "loadstep = {'boundary_conditions':{'mechanical':{'dot_P':dot_P,\n",
    "                                                 'dot_F':inversion(dot_P)}},\n",
    "                                   'discretization':{'t':10.,'N':20}}\n",
    "load_case['loadstep'].append(loadstep)"
   ]
  },
  {
   "cell_type": "code",
   "execution_count": null,
   "id": "388738d3",
   "metadata": {},
   "outputs": [],
   "source": [
    "P = [[ 0 ,'x','x'],\n",
    "     ['x', 0 ,'x'],\n",
    "     ['x','x', 0 ]]\n",
    "\n",
    "loadstep = {'boundary_conditions':{'mechanical':{'P':P,\n",
    "                                                 'dot_F':inversion(P)}},\n",
    "                                   'discretization':{'t':10.,'N':20}}\n",
    "load_case['loadstep'].append(loadstep)"
   ]
  },
  {
   "cell_type": "code",
   "execution_count": null,
   "id": "f74ebc0f",
   "metadata": {},
   "outputs": [],
   "source": [
    "load_case.save('tension-hold-unload.yaml')\n",
    "load_case"
   ]
  }
 ],
 "metadata": {
  "kernelspec": {
   "display_name": "damask",
   "language": "python",
   "name": "python3"
  },
  "language_info": {
   "codemirror_mode": {
    "name": "ipython",
    "version": 3
   },
   "file_extension": ".py",
   "mimetype": "text/x-python",
   "name": "python",
   "nbconvert_exporter": "python",
   "pygments_lexer": "ipython3",
   "version": "3.13.3"
  }
 },
 "nbformat": 4,
 "nbformat_minor": 5
}
