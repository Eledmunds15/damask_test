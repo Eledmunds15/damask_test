{
 "cells": [
  {
   "cell_type": "markdown",
   "id": "91f8fb28",
   "metadata": {},
   "source": [
    "# 01: Create Texture for a Dual-Phase Microstructure\n",
    "https://damask-multiphysics.org/documentation/examples/texture_generation.html"
   ]
  },
  {
   "cell_type": "code",
   "execution_count": null,
   "id": "6a01cd07",
   "metadata": {},
   "outputs": [],
   "source": [
    "import damask\n",
    "import numpy as np"
   ]
  },
  {
   "cell_type": "code",
   "execution_count": null,
   "id": "b291ba91",
   "metadata": {},
   "outputs": [],
   "source": [
    "rng = np.random.default_rng(20191102)\n",
    "rnd = damask.Rotation.from_random(7,rng_seed=rng)\n",
    "fbr = damask.Rotation.from_fiber_component(crystal=[1,0],sample=[1,0],\n",
    "                                           sigma=5.0,shape=5,degrees=True,rng_seed=rng)\n",
    "sph = damask.Rotation.from_spherical_component(center=damask.Rotation(),\n",
    "                                               sigma=7.5,shape=3,degrees=True,rng_seed=rng)"
   ]
  },
  {
   "cell_type": "code",
   "execution_count": null,
   "id": "1e9981ca",
   "metadata": {},
   "outputs": [],
   "source": [
    "config = damask.ConfigMaterial()\\\n",
    "               .material_add(O=rnd,phase='phase_A',homogenization='SX')\\\n",
    "               .material_add(O=fbr,phase='phase_A',homogenization='SX')\\\n",
    "               .material_add(O=sph,phase='phase_B',homogenization='SX')"
   ]
  },
  {
   "cell_type": "code",
   "execution_count": null,
   "id": "162ccc6b",
   "metadata": {},
   "outputs": [],
   "source": [
    "print(f'configuration is{\" \" if config.is_valid else \" not \"}valid\\n')\n",
    "\n",
    "config.save('material.yaml')\n",
    "config"
   ]
  }
 ],
 "metadata": {
  "language_info": {
   "name": "python"
  }
 },
 "nbformat": 4,
 "nbformat_minor": 5
}
