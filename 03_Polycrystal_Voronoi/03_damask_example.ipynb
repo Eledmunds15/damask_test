{
 "cells": [
  {
   "cell_type": "markdown",
   "id": "b6d026d3",
   "metadata": {},
   "source": [
    "# 03: Create a Polycrystal with Voronoi Tessellation for the Grid Solver\n",
    "https://damask-multiphysics.org/documentation/examples/Voronoi_tessellation.html"
   ]
  },
  {
   "cell_type": "code",
   "execution_count": null,
   "id": "4f08479d",
   "metadata": {},
   "outputs": [],
   "source": [
    "import damask\n",
    "import numpy as np"
   ]
  },
  {
   "cell_type": "code",
   "execution_count": null,
   "id": "698c61a4",
   "metadata": {},
   "outputs": [],
   "source": [
    "size = np.ones(3)*1e-5\n",
    "cells = [64,64,64]\n",
    "N_grains = 200"
   ]
  },
  {
   "cell_type": "code",
   "execution_count": null,
   "id": "1c21f59f",
   "metadata": {},
   "outputs": [],
   "source": [
    "seeds = damask.seeds.from_random(size,N_grains,cells)\n",
    "grid = damask.GeomGrid.from_Voronoi_tessellation(cells,size,seeds)\n",
    "grid.save(f'Polycystal_{N_grains}_{cells[0]}x{cells[1]}x{cells[2]}')\n",
    "grid"
   ]
  }
 ],
 "metadata": {
  "language_info": {
   "name": "python"
  }
 },
 "nbformat": 4,
 "nbformat_minor": 5
}
