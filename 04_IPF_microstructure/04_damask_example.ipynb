{
 "cells": [
  {
   "cell_type": "markdown",
   "id": "1bce67be",
   "metadata": {},
   "source": [
    "# 04: Add IPF of the initial microstructure to the grid file\n",
    "https://damask-multiphysics.org/documentation/examples/initial_IPF.html"
   ]
  },
  {
   "cell_type": "code",
   "execution_count": 2,
   "id": "db2a36f1",
   "metadata": {},
   "outputs": [],
   "source": [
    "import damask\n",
    "import numpy as np"
   ]
  },
  {
   "cell_type": "code",
   "execution_count": 1,
   "id": "2790517d",
   "metadata": {},
   "outputs": [],
   "source": [
    "geom = 'initial_IPF/20grains64x64x64.vti'        # path for geometry file\n",
    "material_config = 'initial_IPF/material.yaml'    # path for material.yaml"
   ]
  },
  {
   "cell_type": "code",
   "execution_count": 3,
   "id": "feb8c25e",
   "metadata": {},
   "outputs": [
    {
     "ename": "FileNotFoundError",
     "evalue": "file \"initial_IPF/20grains64x64x64.vti\" not found",
     "output_type": "error",
     "traceback": [
      "\u001b[31m---------------------------------------------------------------------------\u001b[39m",
      "\u001b[31mFileNotFoundError\u001b[39m                         Traceback (most recent call last)",
      "\u001b[36mCell\u001b[39m\u001b[36m \u001b[39m\u001b[32mIn[3]\u001b[39m\u001b[32m, line 1\u001b[39m\n\u001b[32m----> \u001b[39m\u001b[32m1\u001b[39m v = \u001b[43mdamask\u001b[49m\u001b[43m.\u001b[49m\u001b[43mVTK\u001b[49m\u001b[43m.\u001b[49m\u001b[43mload\u001b[49m\u001b[43m(\u001b[49m\u001b[43mgeom\u001b[49m\u001b[43m)\u001b[49m\n\u001b[32m      2\u001b[39m material_ID = v.get(label=\u001b[33m'\u001b[39m\u001b[33mmaterial\u001b[39m\u001b[33m'\u001b[39m).flatten()\n",
      "\u001b[36mFile \u001b[39m\u001b[32m~/miniconda3/envs/damask/lib/python3.13/site-packages/damask/_vtk.py:366\u001b[39m, in \u001b[36mVTK.load\u001b[39m\u001b[34m(fname, dataset_type)\u001b[39m\n\u001b[32m    348\u001b[39m \u001b[38;5;250m\u001b[39m\u001b[33;03m\"\"\"\u001b[39;00m\n\u001b[32m    349\u001b[39m \u001b[33;03mLoad from VTK file.\u001b[39;00m\n\u001b[32m    350\u001b[39m \n\u001b[32m   (...)\u001b[39m\u001b[32m    363\u001b[39m \n\u001b[32m    364\u001b[39m \u001b[33;03m\"\"\"\u001b[39;00m\n\u001b[32m    365\u001b[39m \u001b[38;5;28;01mif\u001b[39;00m \u001b[38;5;129;01mnot\u001b[39;00m Path(fname).expanduser().is_file():                                                  \u001b[38;5;66;03m# vtk has a strange error handling\u001b[39;00m\n\u001b[32m--> \u001b[39m\u001b[32m366\u001b[39m     \u001b[38;5;28;01mraise\u001b[39;00m \u001b[38;5;167;01mFileNotFoundError\u001b[39;00m(\u001b[33mf\u001b[39m\u001b[33m'\u001b[39m\u001b[33mfile \u001b[39m\u001b[33m\"\u001b[39m\u001b[38;5;132;01m{\u001b[39;00mfname\u001b[38;5;132;01m}\u001b[39;00m\u001b[33m\"\u001b[39m\u001b[33m not found\u001b[39m\u001b[33m'\u001b[39m)\n\u001b[32m    367\u001b[39m \u001b[38;5;28;01mif\u001b[39;00m (ext := Path(fname).suffix) == \u001b[33m'\u001b[39m\u001b[33m.vtk\u001b[39m\u001b[33m'\u001b[39m \u001b[38;5;129;01mor\u001b[39;00m dataset_type \u001b[38;5;129;01mis\u001b[39;00m \u001b[38;5;129;01mnot\u001b[39;00m \u001b[38;5;28;01mNone\u001b[39;00m:\n\u001b[32m    368\u001b[39m     reader = vtkGenericDataObjectReader()\n",
      "\u001b[31mFileNotFoundError\u001b[39m: file \"initial_IPF/20grains64x64x64.vti\" not found"
     ]
    }
   ],
   "source": [
    "v = damask.VTK.load(geom)\n",
    "material_ID = v.get(label='material').flatten()"
   ]
  },
  {
   "cell_type": "code",
   "execution_count": null,
   "id": "c4ddee6b",
   "metadata": {},
   "outputs": [],
   "source": [
    "ma = damask.ConfigMaterial.load(material_config)\n",
    "\n",
    "phases = list(ma['phase'].keys())\n",
    "info = []\n",
    "\n",
    "for m in ma['material']:\n",
    "    c = m['constituents'][0]\n",
    "    phase = c['phase']\n",
    "    info.append({'phase':   phase,\n",
    "                 'phaseID': phases.index(phase),\n",
    "                 'lattice': ma['phase'][phase]['lattice'],\n",
    "                 'O':       c['O'],\n",
    "                })"
   ]
  },
  {
   "cell_type": "code",
   "execution_count": null,
   "id": "6a5508c1",
   "metadata": {},
   "outputs": [],
   "source": [
    "l = np.array([0,0,1])                            # lab frame direction for IPF\n",
    "\n",
    "IPF = np.ones((len(material_ID),3),np.uint8)\n",
    "for i,data in enumerate(info):\n",
    "    IPF[np.where(material_ID==i)] = \\\n",
    "    np.uint8(damask.Orientation(data['O'],lattice=data['lattice']).IPF_color(l)*255)"
   ]
  },
  {
   "cell_type": "code",
   "execution_count": null,
   "id": "0cb9f237",
   "metadata": {},
   "outputs": [],
   "source": [
    "v = v.set(f'IPF_{l}',IPF)\n",
    "\n",
    "p   = np.array([d['phase'] for d in info])\n",
    "pid = np.array([d['phaseID'] for d in info])\n",
    "v = v.set(label='phase',data=p[material_ID],info='phase name')\n",
    "v = v.set(label='phaseID',data=pid[material_ID],info='phase ID')\n",
    "\n",
    "v.save('20grains64x64x64_initial_IPF+phase')"
   ]
  }
 ],
 "metadata": {
  "kernelspec": {
   "display_name": "damask",
   "language": "python",
   "name": "python3"
  },
  "language_info": {
   "codemirror_mode": {
    "name": "ipython",
    "version": 3
   },
   "file_extension": ".py",
   "mimetype": "text/x-python",
   "name": "python",
   "nbconvert_exporter": "python",
   "pygments_lexer": "ipython3",
   "version": "3.13.3"
  }
 },
 "nbformat": 4,
 "nbformat_minor": 5
}
