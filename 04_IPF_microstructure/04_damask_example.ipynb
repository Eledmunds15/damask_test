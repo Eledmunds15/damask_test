{
 "cells": [
  {
   "cell_type": "markdown",
   "id": "1bce67be",
   "metadata": {},
   "source": [
    "# 04: Add IPF of the initial microstructure to the grid file\n",
    "https://damask-multiphysics.org/documentation/examples/initial_IPF.html"
   ]
  },
  {
   "cell_type": "code",
   "execution_count": null,
   "id": "db2a36f1",
   "metadata": {},
   "outputs": [],
   "source": [
    "import os\n",
    "import damask\n",
    "import numpy as np"
   ]
  },
  {
   "cell_type": "code",
   "execution_count": null,
   "id": "2790517d",
   "metadata": {},
   "outputs": [],
   "source": [
    "geom = 'initial_IPF/20grains64x64x64.vti'        # path for geometry file\n",
    "material_config = 'initial_IPF/material.yaml'    # path for material.yaml"
   ]
  },
  {
   "cell_type": "code",
   "execution_count": null,
   "id": "feb8c25e",
   "metadata": {},
   "outputs": [],
   "source": [
    "v = damask.VTK.load(geom)\n",
    "material_ID = v.get(label='material').flatten()"
   ]
  },
  {
   "cell_type": "code",
   "execution_count": null,
   "id": "c4ddee6b",
   "metadata": {},
   "outputs": [],
   "source": [
    "ma = damask.ConfigMaterial.load(material_config)\n",
    "\n",
    "phases = list(ma['phase'].keys())\n",
    "info = []\n",
    "\n",
    "for m in ma['material']:\n",
    "    c = m['constituents'][0]\n",
    "    phase = c['phase']\n",
    "    info.append({'phase':   phase,\n",
    "                 'phaseID': phases.index(phase),\n",
    "                 'lattice': ma['phase'][phase]['lattice'],\n",
    "                 'O':       c['O'],\n",
    "                })"
   ]
  },
  {
   "cell_type": "code",
   "execution_count": null,
   "id": "6a5508c1",
   "metadata": {},
   "outputs": [],
   "source": [
    "l = np.array([0,0,1])                            # lab frame direction for IPF\n",
    "\n",
    "IPF = np.ones((len(material_ID),3),np.uint8)\n",
    "for i,data in enumerate(info):\n",
    "    IPF[np.where(material_ID==i)] = \\\n",
    "    np.uint8(damask.Orientation(data['O'],lattice=data['lattice']).IPF_color(l)*255)"
   ]
  },
  {
   "cell_type": "code",
   "execution_count": null,
   "id": "0cb9f237",
   "metadata": {},
   "outputs": [],
   "source": [
    "v = v.set(f'IPF_{l}',IPF)\n",
    "\n",
    "p   = np.array([d['phase'] for d in info])\n",
    "pid = np.array([d['phaseID'] for d in info])\n",
    "v = v.set(label='phase',data=p[material_ID],info='phase name')\n",
    "v = v.set(label='phaseID',data=pid[material_ID],info='phase ID')\n",
    "\n",
    "v.save('20grains64x64x64_initial_IPF+phase')"
   ]
  }
 ],
 "metadata": {
  "kernelspec": {
   "display_name": "damask",
   "language": "python",
   "name": "python3"
  },
  "language_info": {
   "codemirror_mode": {
    "name": "ipython",
    "version": 3
   },
   "file_extension": ".py",
   "mimetype": "text/x-python",
   "name": "python",
   "nbconvert_exporter": "python",
   "pygments_lexer": "ipython3",
   "version": "3.13.3"
  }
 },
 "nbformat": 4,
 "nbformat_minor": 5
}
