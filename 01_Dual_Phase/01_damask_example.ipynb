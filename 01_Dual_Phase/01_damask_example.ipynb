{
 "cells": [
  {
   "cell_type": "markdown",
   "id": "91f8fb28",
   "metadata": {},
   "source": [
    "# 01: Create Texture for a Dual-Phase Microstructure\n",
    "https://damask-multiphysics.org/documentation/examples/texture_generation.html"
   ]
  },
  {
   "cell_type": "code",
   "execution_count": 1,
   "id": "6a01cd07",
   "metadata": {},
   "outputs": [],
   "source": [
    "import damask\n",
    "import numpy as np"
   ]
  },
  {
   "cell_type": "code",
   "execution_count": 2,
   "id": "b291ba91",
   "metadata": {},
   "outputs": [],
   "source": [
    "rng = np.random.default_rng(20191102)\n",
    "rnd = damask.Rotation.from_random(7,rng_seed=rng)\n",
    "fbr = damask.Rotation.from_fiber_component(crystal=[1,0],sample=[1,0],\n",
    "                                           sigma=5.0,shape=5,degrees=True,rng_seed=rng)\n",
    "sph = damask.Rotation.from_spherical_component(center=damask.Rotation(),\n",
    "                                               sigma=7.5,shape=3,degrees=True,rng_seed=rng)"
   ]
  },
  {
   "cell_type": "code",
   "execution_count": 3,
   "id": "1e9981ca",
   "metadata": {},
   "outputs": [],
   "source": [
    "config = damask.ConfigMaterial()\\\n",
    "               .material_add(O=rnd,phase='phase_A',homogenization='SX')\\\n",
    "               .material_add(O=fbr,phase='phase_A',homogenization='SX')\\\n",
    "               .material_add(O=sph,phase='phase_B',homogenization='SX')"
   ]
  },
  {
   "cell_type": "code",
   "execution_count": 4,
   "id": "162ccc6b",
   "metadata": {},
   "outputs": [
    {
     "name": "stdout",
     "output_type": "stream",
     "text": [
      "configuration is valid\n",
      "\n"
     ]
    },
    {
     "data": {
      "text/plain": [
       "homogenization: {SX: null}\n",
       "phase: {phase_A: null, phase_B: null}\n",
       "material:\n",
       "- constituents:\n",
       "  - phase: phase_A\n",
       "    O: [0.004702411137213036, -0.9582446864633862, 0.1084379916089085, 0.2645490694937509]\n",
       "    v: 1.0\n",
       "  homogenization: SX\n",
       "- constituents:\n",
       "  - phase: phase_A\n",
       "    O: [0.9147097460704486, -0.19068436891182194, 0.29014401444532145, -0.20678975501215882]\n",
       "    v: 1.0\n",
       "  homogenization: SX\n",
       "- constituents:\n",
       "  - phase: phase_A\n",
       "    O: [0.10677819003833185, -0.4427133706883004, 0.13690394495734726, 0.879693468999888]\n",
       "    v: 1.0\n",
       "  homogenization: SX\n",
       "- constituents:\n",
       "  - phase: phase_A\n",
       "    O: [0.8664338002923555, 0.04448357787828491, -0.4945927532088464, 0.05188149461403649]\n",
       "    v: 1.0\n",
       "  homogenization: SX\n",
       "- constituents:\n",
       "  - phase: phase_A\n",
       "    O: [0.5621873738314133, 0.0028841916095125584, -0.817023371343172, -0.1281009321680984]\n",
       "    v: 1.0\n",
       "  homogenization: SX\n",
       "- constituents:\n",
       "  - phase: phase_A\n",
       "    O: [0.1566777437467901, -0.8117282158019414, 0.5096142534839398, 0.23841707348975383]\n",
       "    v: 1.0\n",
       "  homogenization: SX\n",
       "- constituents:\n",
       "  - phase: phase_A\n",
       "    O: [0.3559036203819333, 0.1946923701552408, 0.058744995087853975, -0.9121274689178566]\n",
       "    v: 1.0\n",
       "  homogenization: SX\n",
       "- constituents:\n",
       "  - phase: phase_A\n",
       "    O: [0.9771533909925617, -0.004863833273663818, 0.0008445415419241075, -0.2124779526144011]\n",
       "    v: 1.0\n",
       "  homogenization: SX\n",
       "- constituents:\n",
       "  - phase: phase_A\n",
       "    O: [0.6921032914673376, 0.00817270051964545, -0.037844830565611096, 0.7207593285596475]\n",
       "    v: 1.0\n",
       "  homogenization: SX\n",
       "- constituents:\n",
       "  - phase: phase_A\n",
       "    O: [0.6308552503099563, -0.006973671244216273, 0.011666838427685728, -0.7757814807965207]\n",
       "    v: 1.0\n",
       "  homogenization: SX\n",
       "- constituents:\n",
       "  - phase: phase_A\n",
       "    O: [0.04005625494335174, 0.01884514680214138, -0.002401907084394964, 0.9990168105313728]\n",
       "    v: 1.0\n",
       "  homogenization: SX\n",
       "- constituents:\n",
       "  - phase: phase_A\n",
       "    O: [0.7504344649005134, -0.042579315396452024, -0.03664528346481829, -0.6585531405965905]\n",
       "    v: 1.0\n",
       "  homogenization: SX\n",
       "- constituents:\n",
       "  - phase: phase_B\n",
       "    O: [0.9997077237860604, 0.001416270072543795, -0.006186872760829418, -0.023327747148338917]\n",
       "    v: 1.0\n",
       "  homogenization: SX\n",
       "- constituents:\n",
       "  - phase: phase_B\n",
       "    O: [0.9995113630353349, -0.026949863155362304, -0.006163317612475039, -0.014586074014681495]\n",
       "    v: 1.0\n",
       "  homogenization: SX\n",
       "- constituents:\n",
       "  - phase: phase_B\n",
       "    O: [0.9999201916445849, 0.0012798700391004722, -0.006185971515045718, -0.010941025114429064]\n",
       "    v: 1.0\n",
       "  homogenization: SX"
      ]
     },
     "execution_count": 4,
     "metadata": {},
     "output_type": "execute_result"
    }
   ],
   "source": [
    "print(f'configuration is{\" \" if config.is_valid else \" not \"}valid\\n')\n",
    "\n",
    "config.save('material.yaml')\n",
    "config"
   ]
  }
 ],
 "metadata": {
  "kernelspec": {
   "display_name": "damask",
   "language": "python",
   "name": "python3"
  },
  "language_info": {
   "codemirror_mode": {
    "name": "ipython",
    "version": 3
   },
   "file_extension": ".py",
   "mimetype": "text/x-python",
   "name": "python",
   "nbconvert_exporter": "python",
   "pygments_lexer": "ipython3",
   "version": "3.13.3"
  }
 },
 "nbformat": 4,
 "nbformat_minor": 5
}
