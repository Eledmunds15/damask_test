{
 "cells": [
  {
   "cell_type": "code",
   "execution_count": 1,
   "id": "94fe3512",
   "metadata": {},
   "outputs": [],
   "source": [
    "import numpy as np\n",
    "import pyvista as pv\n",
    "import ipywidgets as widgets\n",
    "import damask"
   ]
  },
  {
   "cell_type": "code",
   "execution_count": 2,
   "id": "a9daa19c",
   "metadata": {},
   "outputs": [],
   "source": [
    "surface = widgets.Dropdown(\n",
    "    options=list(damask.GeomGrid._minimal_surface),\n",
    "    description='Minimal Surface:',\n",
    "    width=400,\n",
    "    disabled=False,\n",
    "    )\n",
    "grid = widgets.IntSlider(\n",
    "    value=64,\n",
    "    min=16,\n",
    "    max=256,\n",
    "    step=2,\n",
    "    description='Grid:',\n",
    "    disabled=False,\n",
    "    continuous_update=False,\n",
    "    orientation='horizontal',\n",
    "    readout=True,\n",
    "    readout_format='d'\n",
    "    )\n",
    "periods = widgets.IntSlider(\n",
    "    value=1,\n",
    "    min=1,\n",
    "    max=4,\n",
    "    step=1,\n",
    "    description='Periods:',\n",
    "    disabled=False,\n",
    "    continuous_update=False,\n",
    "    orientation='horizontal',\n",
    "    readout=True,\n",
    "    readout_format='d'\n",
    "    )\n",
    "threshold = widgets.FloatSlider(\n",
    "    value=0.0,\n",
    "    min=-1,\n",
    "    max=1,\n",
    "    step=0.05,\n",
    "    description='Threshold:',\n",
    "    disabled=False,\n",
    "    continuous_update=False,\n",
    "    orientation='horizontal',\n",
    "    readout=True,\n",
    "    readout_format='.2f'\n",
    "    )"
   ]
  },
  {
   "cell_type": "code",
   "execution_count": 3,
   "id": "281f8067",
   "metadata": {},
   "outputs": [
    {
     "data": {
      "application/vnd.jupyter.widget-view+json": {
       "model_id": "4e9ea8e4324c4cc3860a7ecb2e62d4f6",
       "version_major": 2,
       "version_minor": 0
      },
      "text/plain": [
       "Dropdown(description='Minimal Surface:', options=('Schwarz P', 'Double Primitive', 'Schwarz D', 'Complementary…"
      ]
     },
     "metadata": {},
     "output_type": "display_data"
    },
    {
     "data": {
      "application/vnd.jupyter.widget-view+json": {
       "model_id": "dab1d40a6f7346a0ba6dc76c124d2ef2",
       "version_major": 2,
       "version_minor": 0
      },
      "text/plain": [
       "IntSlider(value=64, continuous_update=False, description='Grid:', max=256, min=16, step=2)"
      ]
     },
     "metadata": {},
     "output_type": "display_data"
    },
    {
     "data": {
      "application/vnd.jupyter.widget-view+json": {
       "model_id": "b9d57403932c4c519d458773089a85ba",
       "version_major": 2,
       "version_minor": 0
      },
      "text/plain": [
       "IntSlider(value=1, continuous_update=False, description='Periods:', max=4, min=1)"
      ]
     },
     "metadata": {},
     "output_type": "display_data"
    },
    {
     "data": {
      "application/vnd.jupyter.widget-view+json": {
       "model_id": "36b87ce09060479cbab47b9a8d0dc8c7",
       "version_major": 2,
       "version_minor": 0
      },
      "text/plain": [
       "FloatSlider(value=0.0, continuous_update=False, description='Threshold:', max=1.0, min=-1.0, step=0.05)"
      ]
     },
     "metadata": {},
     "output_type": "display_data"
    }
   ],
   "source": [
    "display(surface,grid,periods,threshold)"
   ]
  },
  {
   "cell_type": "code",
   "execution_count": 4,
   "id": "00be191b",
   "metadata": {},
   "outputs": [],
   "source": [
    "tpms = damask.GeomGrid.from_minimal_surface([grid.value]*3,np.ones(3),\n",
    "                                             surface.value,\n",
    "                                             threshold=threshold.value,\n",
    "                                             periods=periods.value)"
   ]
  },
  {
   "cell_type": "code",
   "execution_count": 5,
   "id": "10f9f7d5",
   "metadata": {},
   "outputs": [],
   "source": [
    "# export VTK dataset\n",
    "\n",
    "tpms.save(f'TPMS_{surface.value}_{threshold.value}_{grid.value}.vti')"
   ]
  },
  {
   "cell_type": "code",
   "execution_count": 6,
   "id": "7191dea2",
   "metadata": {},
   "outputs": [],
   "source": [
    "# transform into pyvista mesh\n",
    "\n",
    "mesh = pv.ImageData(dimensions=tpms.cells+1,\n",
    "                    spacing=tpms.size/tpms.cells)\n",
    "mesh['material'] = tpms.material.flatten(order='F')\n",
    "mesh['interface'] = (tpms.vicinity_offset().material>1).astype(int).flatten(order='F')"
   ]
  },
  {
   "cell_type": "code",
   "execution_count": null,
   "id": "2034f91c",
   "metadata": {},
   "outputs": [],
   "source": [
    "# generate an interactive visualization\n",
    "\n",
    "pl = pv.Plotter()\n",
    "pl.add_mesh(mesh,scalars='material',\n",
    "            cmap='YlGn',\n",
    "            opacity=0.4,\n",
    "            show_scalar_bar=False)\n",
    "pl.add_mesh(mesh.threshold(value=1,scalars='interface'),\n",
    "            color=\"#a0a0a0\",\n",
    "            ambient=0.2,\n",
    "            specular=0.5,\n",
    "           )\n",
    "\n",
    "pl.set_background('white')\n",
    "pl.show()"
   ]
  }
 ],
 "metadata": {
  "kernelspec": {
   "display_name": "damask",
   "language": "python",
   "name": "python3"
  },
  "language_info": {
   "codemirror_mode": {
    "name": "ipython",
    "version": 3
   },
   "file_extension": ".py",
   "mimetype": "text/x-python",
   "name": "python",
   "nbconvert_exporter": "python",
   "pygments_lexer": "ipython3",
   "version": "3.13.3"
  }
 },
 "nbformat": 4,
 "nbformat_minor": 5
}
